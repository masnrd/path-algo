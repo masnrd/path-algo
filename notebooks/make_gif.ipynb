{
 "cells": [
  {
   "cell_type": "code",
   "execution_count": 5,
   "metadata": {},
   "outputs": [
    {
     "name": "stdout",
     "output_type": "stream",
     "text": [
      "Inside main\n"
     ]
    }
   ],
   "source": [
    "import glob\n",
    "from PIL import Image\n",
    "\n",
    "def make_gif(frame_folder):\n",
    "    # Get a list of image file paths sorted by their filenames as integers\n",
    "    image_paths = sorted(glob.glob(f\"{frame_folder}/*\"), key=lambda x: int(x.split('/')[-1].split('.')[0]))\n",
    "\n",
    "    frames = [Image.open(image) for image in image_paths]\n",
    "    for _ in range(100):\n",
    "        frames.append(frames[-1])\n",
    "    frame_one = frames[0]\n",
    "    frame_one.save(\"../output/visualised.gif\", format=\"GIF\", append_images=frames,\n",
    "                   save_all=True, duration=100, loop=1)\n",
    "\n",
    "if __name__ == \"__main__\":\n",
    "    print(\"Inside main\")\n",
    "    make_gif(\"../output/animation\")\n"
   ]
  },
  {
   "cell_type": "code",
   "execution_count": null,
   "metadata": {},
   "outputs": [],
   "source": []
  }
 ],
 "metadata": {
  "kernelspec": {
   "display_name": "basic",
   "language": "python",
   "name": "python3"
  },
  "language_info": {
   "codemirror_mode": {
    "name": "ipython",
    "version": 3
   },
   "file_extension": ".py",
   "mimetype": "text/x-python",
   "name": "python",
   "nbconvert_exporter": "python",
   "pygments_lexer": "ipython3",
   "version": "3.8.15"
  },
  "orig_nbformat": 4
 },
 "nbformat": 4,
 "nbformat_minor": 2
}
