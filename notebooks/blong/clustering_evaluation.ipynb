{
 "cells": [
  {
   "cell_type": "markdown",
   "id": "5cae4d5e-3e98-43e2-8365-6c107a7b0190",
   "metadata": {},
   "source": [
    "## Clustering Evaluation: DIANA v DBSCAN"
   ]
  },
  {
   "cell_type": "code",
   "execution_count": 1,
   "id": "4571716a-3cbf-4997-881b-ebfec3384918",
   "metadata": {},
   "outputs": [],
   "source": [
    "import h3\n",
    "import folium\n",
    "import numpy as np\n",
    "import os\n",
    "import random\n",
    "\n",
    "from clusterfinder.clusterfinder import (\n",
    "    DBSCANClusterFinder,\n",
    "    DIANAClusterFinder\n",
    ")\n",
    "\n",
    "from utils.viz import (\n",
    "    gradient_color,\n",
    "    add_hex_to_map,\n",
    "    create_gif\n",
    ")\n",
    "from experiment.test_framework import TestFramework\n",
    "\n",
    "RES=15\n",
    "NUM_HOTSPOT = 200\n",
    "NUM_CASUALTY = 10\n",
    "STEPS = 500\n",
    "CENTRE = (1.3392911509416838, 103.95958286190708)\n",
    "MAP = folium.Map(location=CENTRE, zoom_start=16, tiles='cartodb positron', max_zoom=24)"
   ]
  },
  {
   "cell_type": "markdown",
   "id": "a31bfb0f-afa1-473d-bd4b-d6f577768a4f",
   "metadata": {},
   "source": [
    "### 1000 hotspots"
   ]
  },
  {
   "cell_type": "code",
   "execution_count": 4,
   "id": "aa625904-8e19-4d48-bdde-fe7fb8176044",
   "metadata": {},
   "outputs": [
    {
     "name": "stdout",
     "output_type": "stream",
     "text": [
      "DIANA\n",
      "Number of clusters 190\n",
      "\n",
      "Average Evaluation Metrics:\n",
      "Average Cluster Avg Dist: 25.44\n",
      "Average Cluster Std Dist: 9.84\n",
      "Average Path Coverage: NA\n",
      "Average Angle Curvature: NA\n",
      "Average Casualties Captured: NA\n",
      "Average Casualties Count: NA\n",
      "Average Minimum Time Captured: NA\n",
      "Average False Negatives: NA\n",
      "DBSCAN\n",
      "Number of clusters 1\n",
      "\n",
      "Average Evaluation Metrics:\n",
      "Average Cluster Avg Dist: 380.84\n",
      "Average Cluster Std Dist: 145.31\n",
      "Average Path Coverage: NA\n",
      "Average Angle Curvature: NA\n",
      "Average Casualties Captured: NA\n",
      "Average Casualties Count: NA\n",
      "Average Minimum Time Captured: NA\n",
      "Average False Negatives: NA\n"
     ]
    }
   ],
   "source": [
    "NUM_HOTSPOT = 1000\n",
    "\n",
    "print(\"\\nDIANA\")\n",
    "test_object = TestFramework(name=\"DIANA\", res=RES)\n",
    "test_object.init_mission(MAP, CENTRE, NUM_HOTSPOT, NUM_CASUALTY)\n",
    "test_object.register_cluster_finder(DIANAClusterFinder, threshold=0.1)\n",
    "test_object.run(STEPS, only_cluster=True, print_output=False)\n",
    "\n",
    "print(\"\\nDBSCAN\")\n",
    "test_object = TestFramework(name=\"DBSCAN\", res=RES)\n",
    "test_object.init_mission(MAP, CENTRE, NUM_HOTSPOT, NUM_CASUALTY)\n",
    "test_object.register_cluster_finder(DBSCANClusterFinder, max_gap=0.5, min_pts=1)\n",
    "test_object.run(STEPS, only_cluster=True, print_output=False)"
   ]
  },
  {
   "cell_type": "markdown",
   "id": "5160c5ce-eca9-4a44-9cc0-fab5db667dda",
   "metadata": {},
   "source": [
    "### 100 hotspots"
   ]
  },
  {
   "cell_type": "code",
   "execution_count": 6,
   "id": "fb4417a3-6427-4bea-b362-941dd5ec2336",
   "metadata": {},
   "outputs": [
    {
     "name": "stdout",
     "output_type": "stream",
     "text": [
      "\n",
      "DIANA\n",
      "Number of clusters 61\n",
      "\n",
      "Average Evaluation Metrics:\n",
      "Average Cluster Avg Dist: 26.7\n",
      "Average Cluster Std Dist: 10.13\n",
      "Average Path Coverage: NA\n",
      "Average Angle Curvature: NA\n",
      "Average Casualties Captured: NA\n",
      "Average Casualties Count: NA\n",
      "Average Minimum Time Captured: NA\n",
      "Average False Negatives: NA\n",
      "\n",
      "DBSCAN\n",
      "Number of clusters 1\n",
      "\n",
      "Average Evaluation Metrics:\n",
      "Average Cluster Avg Dist: 376.93\n",
      "Average Cluster Std Dist: 150.24\n",
      "Average Path Coverage: NA\n",
      "Average Angle Curvature: NA\n",
      "Average Casualties Captured: NA\n",
      "Average Casualties Count: NA\n",
      "Average Minimum Time Captured: NA\n",
      "Average False Negatives: NA\n"
     ]
    }
   ],
   "source": [
    "NUM_HOTSPOT = 100\n",
    "\n",
    "print(\"\\nDIANA\")\n",
    "test_object = TestFramework(name=\"DIANA\", res=RES)\n",
    "test_object.init_mission(MAP, CENTRE, NUM_HOTSPOT, NUM_CASUALTY)\n",
    "test_object.register_cluster_finder(DIANAClusterFinder, threshold=0.1)\n",
    "test_object.run(STEPS, only_cluster=True, print_output=False)\n",
    "\n",
    "print(\"\\nDBSCAN\")\n",
    "test_object = TestFramework(name=\"DBSCAN\", res=RES)\n",
    "test_object.init_mission(MAP, CENTRE, NUM_HOTSPOT, NUM_CASUALTY)\n",
    "test_object.register_cluster_finder(DBSCANClusterFinder, max_gap=0.5, min_pts=1)\n",
    "test_object.run(STEPS, only_cluster=True, print_output=False)"
   ]
  },
  {
   "cell_type": "markdown",
   "id": "0c8a4844-2d32-4906-ba5d-ae274d4566d7",
   "metadata": {},
   "source": [
    "### 10 hotspots"
   ]
  },
  {
   "cell_type": "code",
   "execution_count": 21,
   "id": "a538b9b2-52ca-4a54-ad31-7130a8123062",
   "metadata": {},
   "outputs": [
    {
     "name": "stdout",
     "output_type": "stream",
     "text": [
      "\n",
      "DIANA\n",
      "Number of clusters 8\n",
      "\n",
      "Average Evaluation Metrics:\n",
      "Average Cluster Avg Dist: 20.55\n",
      "Average Cluster Std Dist: NA\n",
      "Average Path Coverage: NA\n",
      "Average Angle Curvature: NA\n",
      "Average Casualties Captured: NA\n",
      "Average Casualties Count: NA\n",
      "Average Minimum Time Captured: NA\n",
      "Average False Negatives: NA\n",
      "\n",
      "DBSCAN\n",
      "Number of clusters 1\n",
      "\n",
      "Average Evaluation Metrics:\n",
      "Average Cluster Avg Dist: 315.19\n",
      "Average Cluster Std Dist: 94.18\n",
      "Average Path Coverage: NA\n",
      "Average Angle Curvature: NA\n",
      "Average Casualties Captured: NA\n",
      "Average Casualties Count: NA\n",
      "Average Minimum Time Captured: NA\n",
      "Average False Negatives: NA\n"
     ]
    }
   ],
   "source": [
    "NUM_HOTSPOT = 10\n",
    "\n",
    "print(\"\\nDIANA\")\n",
    "test_object = TestFramework(name=\"DIANA\", res=RES)\n",
    "test_object.init_mission(MAP, CENTRE, NUM_HOTSPOT, NUM_CASUALTY)\n",
    "test_object.register_cluster_finder(DIANAClusterFinder, threshold=0.1)\n",
    "test_object.run(STEPS, only_cluster=True, print_output=False)\n",
    "\n",
    "print(\"\\nDBSCAN\")\n",
    "test_object = TestFramework(name=\"DBSCAN\", res=RES)\n",
    "test_object.init_mission(MAP, CENTRE, NUM_HOTSPOT, NUM_CASUALTY)\n",
    "test_object.register_cluster_finder(DBSCANClusterFinder, max_gap=0.5, min_pts=1)\n",
    "test_object.run(STEPS, only_cluster=True, print_output=False)"
   ]
  },
  {
   "cell_type": "markdown",
   "id": "39d90d73-fecb-4bf1-acd7-49ff929f9b36",
   "metadata": {},
   "source": [
    "## Create GIF"
   ]
  },
  {
   "cell_type": "code",
   "execution_count": null,
   "id": "810dd3b5",
   "metadata": {},
   "outputs": [],
   "source": [
    "# if STEPS >= 200:\n",
    "#     print(\"This gna take forever\")\n",
    "# output_path = os.path.join(os.getcwd(), \"Spiral_path.gif\")\n",
    "# create_gif(output_path, test_spiral.probability_map, spiral_output, test_spiral.casualty_locations, test_spiral.casualty_detected, dpi=50)\n",
    "# print(\"Spiral_path.gif done\")\n",
    "# output_path = os.path.join(os.getcwd(), \"Bayes_path.gif\")\n",
    "# create_gif(output_path, test_bayes.probability_map, bayes_output, test_bayes.casualty_locations, test_bayes.casualty_detected, dpi=50)\n",
    "# print(\"Bayes_path.gif done\")"
   ]
  },
  {
   "cell_type": "code",
   "execution_count": null,
   "id": "a989b66e-7fce-41c6-a293-67cc9e5494c7",
   "metadata": {},
   "outputs": [],
   "source": []
  }
 ],
 "metadata": {
  "kernelspec": {
   "display_name": "Python 3 (ipykernel)",
   "language": "python",
   "name": "python3"
  },
  "language_info": {
   "codemirror_mode": {
    "name": "ipython",
    "version": 3
   },
   "file_extension": ".py",
   "mimetype": "text/x-python",
   "name": "python",
   "nbconvert_exporter": "python",
   "pygments_lexer": "ipython3",
   "version": "3.10.1"
  }
 },
 "nbformat": 4,
 "nbformat_minor": 5
}
