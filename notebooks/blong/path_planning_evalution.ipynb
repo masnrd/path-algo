{
 "cells": [
  {
   "cell_type": "markdown",
   "id": "5cae4d5e-3e98-43e2-8365-6c107a7b0190",
   "metadata": {},
   "source": [
    "## Path Planning Evaluation: Outward Spiral vs Bayesian"
   ]
  },
  {
   "cell_type": "code",
   "execution_count": 1,
   "id": "4571716a-3cbf-4997-881b-ebfec3384918",
   "metadata": {},
   "outputs": [],
   "source": [
    "import h3\n",
    "import folium\n",
    "import numpy as np\n",
    "import os\n",
    "import random\n",
    "\n",
    "from clusterfinder.clusterfinder import (\n",
    "    DIANAClusterFinder\n",
    ")\n",
    "from pathfinder.algo import (\n",
    "    OutwardSpiralPathFinder, \n",
    "    BayesianHexSearch\n",
    ")\n",
    "from utils.viz import (\n",
    "    add_hex_to_map,\n",
    ")\n",
    "from experiment.test_framework import TestFramework\n",
    "\n",
    "# Run and validate\n",
    "RES=15\n",
    "NUM_HOTSPOT = 50\n",
    "NUM_CASUALTY = 50\n",
    "STEPS = 500\n",
    "CENTRE = (1.3392911509416838, 103.95958286190708)\n",
    "MAP = folium.Map(location=CENTRE, zoom_start=16, tiles='cartodb positron', max_zoom=24)"
   ]
  },
  {
   "cell_type": "markdown",
   "id": "0c151fae-d512-4d16-8866-dd0617ee1822",
   "metadata": {},
   "source": [
    "### 800 steps"
   ]
  },
  {
   "cell_type": "code",
   "execution_count": null,
   "outputs": [],
   "source": [
    "STEPS = 200\n",
    "\n",
    "# print(\"\\nSpiral\")\n",
    "# test_object = TestFramework(name=\"DIANA\", res=RES)\n",
    "# test_object.init_mission(MAP, CENTRE, NUM_HOTSPOT, NUM_CASUALTY)\n",
    "# test_object.register_cluster_finder(DIANAClusterFinder, threshold=0.1)\n",
    "# test_object.register_path_finder(OutwardSpiralPathFinder)\n",
    "# test_object.run(STEPS, only_path=True, print_output=False)\n",
    "\n",
    "print(\"\\nBayes\")\n",
    "test_object = TestFramework(name=\"DIANA\", res=RES)\n",
    "test_object.init_mission(MAP, CENTRE, NUM_HOTSPOT, NUM_CASUALTY)\n",
    "test_object.register_cluster_finder(DIANAClusterFinder, threshold=0.1)\n",
    "test_object.register_path_finder(BayesianHexSearch)\n",
    "test_object.run(STEPS, only_path=True, update_map=True, f=print_output=False)"
   ],
   "metadata": {
    "collapsed": false
   },
   "id": "de65327dfa5e244c"
  },
  {
   "cell_type": "code",
   "execution_count": null,
   "outputs": [],
   "source": [
    "def visualize_hotspots_and_casualties(map: folium.Map, hotspots, casualty_locations):\n",
    "    \"\"\"\n",
    "    hotspots: list of tuple of (lat, lng)\n",
    "    casualty_locations: set of hex_idx\n",
    "    \"\"\"\n",
    "    casualty_locations = [h3.h3_to_geo(hex_idx) for hex_idx in casualty_locations]\n",
    "    \n",
    "    for hs in hotspots:\n",
    "        folium.Marker(location=hs, icon=folium.Icon(color='red', icon='fire')).add_to(map)\n",
    "    for casualty in casualty_locations:\n",
    "        folium.Marker(location=casualty, icon=folium.Icon(color='orange', icon='exclamation-sign')).add_to(map)\n",
    "    return map\n",
    "\n",
    "def visualize_path(map: folium.Map, search_outputs, max_outputs=3):\n",
    "    \"\"\"\n",
    "    Visualize up to max_outputs paths on a map.\n",
    "    \n",
    "    :param map_object: folium.Map object to which the paths will be added\n",
    "    :param search_outputs: list of dictionaries with 'hex_idx' and 'step_count'\n",
    "    :param max_outputs: maximum number of paths to visualize\n",
    "    :return: folium.Map object with paths added\n",
    "    \"\"\"\n",
    "    for idx, output in enumerate(search_outputs.values()):\n",
    "        if idx >= max_outputs:\n",
    "            break\n",
    "        add_hex_to_map(output, map)\n",
    "    return map\n",
    "\n",
    "\n",
    "map = test_object.main_map\n",
    "hotspots, casualty_locations = test_object.hotspots, test_object.casualty_locations\n",
    "all_search_outputs = test_object.all_search_outputs\n",
    "\n",
    "map = visualize_hotspots_and_casualties(map, hotspots, casualty_locations)\n",
    "map = visualize_path(map, all_search_outputs)\n",
    "display(map)"
   ],
   "metadata": {
    "collapsed": false
   },
   "id": "3ec483f456b0a4af"
  },
  {
   "cell_type": "code",
   "execution_count": null,
   "outputs": [],
   "source": [],
   "metadata": {
    "collapsed": false
   },
   "id": "56b3ead5101e1892"
  },
  {
   "cell_type": "code",
   "execution_count": null,
   "id": "09439d6f-f494-482a-8ca6-f6526f64a37d",
   "metadata": {},
   "outputs": [],
   "source": []
  }
 ],
 "metadata": {
  "kernelspec": {
   "display_name": "Python 3 (ipykernel)",
   "language": "python",
   "name": "python3"
  },
  "language_info": {
   "codemirror_mode": {
    "name": "ipython",
    "version": 3
   },
   "file_extension": ".py",
   "mimetype": "text/x-python",
   "name": "python",
   "nbconvert_exporter": "python",
   "pygments_lexer": "ipython3",
   "version": "3.10.1"
  }
 },
 "nbformat": 4,
 "nbformat_minor": 5
}
