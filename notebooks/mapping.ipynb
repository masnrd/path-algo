{
 "cells": [
  {
   "cell_type": "code",
   "execution_count": 1,
   "metadata": {},
   "outputs": [],
   "source": [
    "%matplotlib inline"
   ]
  },
  {
   "cell_type": "code",
   "execution_count": 2,
   "metadata": {},
   "outputs": [
    {
     "name": "stderr",
     "output_type": "stream",
     "text": [
      "100%|██████████| 42/42 [00:00<00:00, 87.35it/s]\n",
      "100%|██████████| 42/42 [00:00<00:00, 45007.86it/s]\n"
     ]
    },
    {
     "data": {
      "image/png": "[encoded data removed]",
      "text/plain": [
       "<Figure size 432x288 with 1 Axes>"
      ]
     },
     "metadata": {
      "needs_background": "light"
     },
     "output_type": "display_data"
    }
   ],
   "source": [
    "\"\"\"\n",
    "2D gaussian grid map sample\n",
    "author: Atsushi Sakai (@Atsushi_twi)\n",
    "\"\"\"\n",
    "\n",
    "import math\n",
    "import numpy as np\n",
    "import matplotlib.pyplot as plt\n",
    "from scipy.stats import norm\n",
    "from tqdm import tqdm\n",
    "import random\n",
    "from IPython.display import display\n",
    "\n",
    "EXTEND_AREA = 15.0  # [m] grid map extention lengt\n",
    "\n",
    "\n",
    "def generate_gaussian_grid_map(ox, oy, xyreso, std, victim):\n",
    "\n",
    "    minx, miny, maxx, maxy, xw, yw = calc_grid_map_config(ox, oy, xyreso)\n",
    "    gmap = [[0.0 for i in range(yw)] for i in range(xw)]\n",
    "    num_victims = len(victim)\n",
    "\n",
    "    for ix in tqdm(range(xw)):\n",
    "        for iy in range(yw):\n",
    "            x = ix * xyreso + minx\n",
    "            y = iy * xyreso + miny\n",
    "            probability = sum([ (1.0 - norm.cdf(math.hypot(iox - x, ioy - y), 0.0, std)) for (iox, ioy) in zip(ox, oy)])\n",
    "            gmap[ix][iy] = probability\n",
    "\n",
    "    gmap /= np.max(gmap)*1.001\n",
    "\n",
    "    for ix in tqdm(range(xw)):\n",
    "        for iy in range(yw):\n",
    "            probability = gmap[ix][iy]\n",
    "            roll = random.uniform(0.9, 1)\n",
    "            if roll < probability and num_victims > 0:\n",
    "                num_victims -= 1\n",
    "                victim[num_victims] = [ix,iy]\n",
    "\n",
    "    return gmap, minx, maxx, miny, maxy\n",
    "\n",
    "def calc_grid_map_config(ox, oy, xyreso):\n",
    "    minx = round(min(ox) - EXTEND_AREA / 2.0)\n",
    "    miny = round(min(oy) - EXTEND_AREA / 2.0)\n",
    "    maxx = round(max(ox) + EXTEND_AREA / 2.0)\n",
    "    maxy = round(max(oy) + EXTEND_AREA / 2.0)\n",
    "    xw = int(round((maxx - minx) / xyreso))\n",
    "    yw = int(round((maxy - miny) / xyreso))\n",
    "    return minx, miny, maxx, maxy, xw, yw\n",
    "\n",
    "\n",
    "def draw_heatmap(data, minx, maxx, miny, maxy, xyreso, ax):\n",
    "    x, y = np.mgrid[slice((minx - xyreso//2), (maxx + xyreso//2), xyreso),\n",
    "                    slice((miny - xyreso//2), (maxy + xyreso//2), xyreso)]\n",
    "    ax.pcolor(x, y, data, vmax=1.0, cmap=plt.cm.Blues)\n",
    "    ax.axis(\"equal\")\n",
    "\n",
    "\n",
    "xyreso = 0.5  # xy grid resolution\n",
    "STD = 25.0  # standard diviation for gaussian distribution\n",
    "\n",
    "num_random_pts = 5\n",
    "ox = (np.random.rand(num_random_pts) - 0.5) * 10.0\n",
    "oy = (np.random.rand(num_random_pts) - 0.5) * 10.0\n",
    "victim = [[]]\n",
    "gmap, minx, maxx, miny, maxy = generate_gaussian_grid_map(\n",
    "    ox, oy, xyreso, STD, victim)\n",
    "\n",
    "fig, ax = plt.subplots()\n",
    "\n",
    "draw_heatmap(gmap, minx, maxx, miny, maxy, xyreso, ax) # Plot heat map\n",
    "ax.plot(ox, oy, \"xr\") # Plot all the points\n",
    "for v in victim:\n",
    "    ax.plot(v[0] * xyreso + minx, v[1] * xyreso + miny, \"y*\")\n",
    "plt.show()"
   ]
  },
  {
   "cell_type": "code",
   "execution_count": 3,
   "metadata": {},
   "outputs": [],
   "source": [
    "def find_argmax_2d_numpy(input_list):\n",
    "\n",
    "    arr = np.array(input_list)\n",
    "    flattened_index = np.argmax(arr)\n",
    "    max_i, max_j = np.unravel_index(flattened_index, arr.shape)\n",
    "    \n",
    "    return max_i, max_j"
   ]
  },
  {
   "cell_type": "code",
   "execution_count": 4,
   "metadata": {},
   "outputs": [
    {
     "data": {
      "image/png": "[encoded data removed]",
      "text/plain": [
       "<Figure size 432x288 with 1 Axes>"
      ]
     },
     "metadata": {},
     "output_type": "display_data"
    }
   ],
   "source": [
    "from matplotlib import animation\n",
    "from tqdm import tqdm\n",
    "\n",
    "currentx = random.randint(0, len(gmap))\n",
    "currenty = random.randint(0, len(gmap[0]))\n",
    "\n",
    "ax.plot(currentx * xyreso + minx, currenty * xyreso + miny, \"ob\")\n",
    "display(fig)\n",
    "\n",
    "f = 0.99\n",
    "\n",
    "count = 0\n",
    "\n",
    "while [currentx, currenty] not in victim:\n",
    "    # While not found\n",
    "    p = gmap[currentx][currenty]\n",
    "    update = p*(1-f)/(1-p*f)\n",
    "    if p > 1:\n",
    "        print(p)\n",
    "    if update > p:\n",
    "        print(update, p)\n",
    "    assert update < p\n",
    "    gmap[currentx][currenty] = update\n",
    "\n",
    "    x, y = find_argmax_2d_numpy(gmap)\n",
    "    \n",
    "    if x > currentx:\n",
    "        currentx+=1\n",
    "    elif x < currentx:\n",
    "        currentx-=1\n",
    "    if y > currenty:\n",
    "        currenty+=1\n",
    "    elif y < currenty:\n",
    "        currenty-=1\n",
    "    ax.plot(currentx * xyreso + minx, currenty * xyreso + miny, \"ob\")\n",
    "    ax.plot(ox, oy, \"xr\") # Plot all the points\n",
    "    for v in victim:\n",
    "        ax.plot(v[0] * xyreso + minx, v[1] * xyreso + miny, \"y*\")\n",
    "    draw_heatmap(gmap, minx, maxx, miny, maxy, xyreso, ax) # Plot heat map\n",
    "    count += 1\n",
    "    if count%5 == 0:\n",
    "        fig.savefig(f'../output/animation/{count}.png')\n",
    "        # display(fig)\n",
    "        ax.cla()\n",
    "    # count += 1\n",
    "    # if count%5 == 0:\n",
    "    #     fig.savefig(f'./animation/p{count}.png')\n"
   ]
  },
  {
   "cell_type": "code",
   "execution_count": 6,
   "metadata": {},
   "outputs": [
    {
     "data": {
      "image/png": "[encoded data removed]",
      "text/plain": [
       "<Figure size 432x288 with 1 Axes>"
      ]
     },
     "metadata": {},
     "output_type": "display_data"
    }
   ],
   "source": [
    "display(fig)"
   ]
  },
  {
   "cell_type": "code",
   "execution_count": null,
   "metadata": {},
   "outputs": [],
   "source": []
  }
 ],
 "metadata": {
  "kernelspec": {
   "display_name": "basic",
   "language": "python",
   "name": "python3"
  },
  "language_info": {
   "codemirror_mode": {
    "name": "ipython",
    "version": 3
   },
   "file_extension": ".py",
   "mimetype": "text/x-python",
   "name": "python",
   "nbconvert_exporter": "python",
   "pygments_lexer": "ipython3",
   "version": "3.8.15"
  },
  "orig_nbformat": 4
 },
 "nbformat": 4,
 "nbformat_minor": 2
}
